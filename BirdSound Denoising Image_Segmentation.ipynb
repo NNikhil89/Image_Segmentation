{
 "cells": [
  {
   "cell_type": "markdown",
   "metadata": {},
   "source": [
    "# Image segmentation model using pytorch"
   ]
  },
  {
   "cell_type": "code",
   "execution_count": 15,
   "metadata": {
    "colab": {
     "base_uri": "https://localhost:8080/"
    },
    "id": "mv8rvreUdGIi",
    "outputId": "cec4da59-f209-4bd1-f4b2-72b5d7c080dc"
   },
   "outputs": [
    {
     "name": "stderr",
     "output_type": "stream",
     "text": [
      "/usr/local/lib/python3.10/dist-packages/torchvision/models/_utils.py:208: UserWarning: The parameter 'pretrained' is deprecated since 0.13 and may be removed in the future, please use 'weights' instead.\n",
      "  warnings.warn(\n",
      "/usr/local/lib/python3.10/dist-packages/torchvision/models/_utils.py:223: UserWarning: Arguments other than a weight enum or `None` for 'weights' are deprecated since 0.13 and may be removed in the future. The current behavior is equivalent to passing `weights=ResNet50_Weights.IMAGENET1K_V1`. You can also use `weights=ResNet50_Weights.DEFAULT` to get the most up-to-date weights.\n",
      "  warnings.warn(msg)\n"
     ]
    }
   ],
   "source": [
    "import os\n",
    "import torch\n",
    "import torch.nn as nn\n",
    "import torch.optim as optim\n",
    "import torchvision.models as models\n",
    "import torchvision.transforms as transforms\n",
    "from torch.utils.data import Dataset, DataLoader\n",
    "from PIL import Image\n",
    "import matplotlib.pyplot as plt\n",
    "\n",
    "# ResNet Encoder\n",
    "class ResNetEncoder(nn.Module):\n",
    "    def __init__(self):\n",
    "        super(ResNetEncoder, self).__init__()\n",
    "        resnet = models.resnet50(pretrained=True)\n",
    "        self.layer0 = nn.Sequential(resnet.conv1, resnet.bn1, resnet.relu, resnet.maxpool)\n",
    "        self.layer1 = resnet.layer1\n",
    "        self.layer2 = resnet.layer2\n",
    "        self.layer3 = resnet.layer3\n",
    "        self.layer4 = resnet.layer4\n",
    "\n",
    "    def forward(self, x):\n",
    "        x = self.layer0(x)\n",
    "        x = self.layer1(x)\n",
    "        x = self.layer2(x)\n",
    "        x = self.layer3(x)\n",
    "        x = self.layer4(x)\n",
    "        return x\n",
    "\n",
    "# ASPP Module\n",
    "class ASPP(nn.Module):\n",
    "    def __init__(self, in_channels, out_channels):\n",
    "        super(ASPP, self).__init__()\n",
    "        self.conv_1x1_1 = nn.Conv2d(in_channels, out_channels, kernel_size=1)\n",
    "        self.bn_conv_1x1_1 = nn.BatchNorm2d(out_channels)\n",
    "\n",
    "        self.conv_3x3_1 = nn.Conv2d(in_channels, out_channels, kernel_size=3, stride=1, padding=6, dilation=6)\n",
    "        self.bn_conv_3x3_1 = nn.BatchNorm2d(out_channels)\n",
    "\n",
    "        self.conv_3x3_2 = nn.Conv2d(in_channels, out_channels, kernel_size=3, stride=1, padding=12, dilation=12)\n",
    "        self.bn_conv_3x3_2 = nn.BatchNorm2d(out_channels)\n",
    "\n",
    "        self.conv_3x3_3 = nn.Conv2d(in_channels, out_channels, kernel_size=3, stride=1, padding=18, dilation=18)\n",
    "        self.bn_conv_3x3_3 = nn.BatchNorm2d(out_channels)\n",
    "\n",
    "        self.conv_1x1_2 = nn.Conv2d(in_channels, out_channels, kernel_size=1)\n",
    "        self.bn_conv_1x1_2 = nn.BatchNorm2d(out_channels)\n",
    "\n",
    "        self.conv_1x1_3 = nn.Conv2d(out_channels * 5, out_channels, kernel_size=1)\n",
    "        self.bn_conv_1x1_3 = nn.BatchNorm2d(out_channels)\n",
    "\n",
    "        self.relu = nn.ReLU()\n",
    "        self.dropout = nn.Dropout(0.5)\n",
    "\n",
    "    def forward(self, x):\n",
    "        feature_map_h = x.size()[2]\n",
    "        feature_map_w = x.size()[3]\n",
    "\n",
    "        out_1x1_1 = self.relu(self.bn_conv_1x1_1(self.conv_1x1_1(x)))\n",
    "\n",
    "        out_3x3_1 = self.relu(self.bn_conv_3x3_1(self.conv_3x3_1(x)))\n",
    "\n",
    "        out_3x3_2 = self.relu(self.bn_conv_3x3_2(self.conv_3x3_2(x)))\n",
    "\n",
    "        out_3x3_3 = self.relu(self.bn_conv_3x3_3(self.conv_3x3_3(x)))\n",
    "\n",
    "        out_img = self.relu(self.bn_conv_1x1_2(self.conv_1x1_2(x)))\n",
    "        out_img = nn.functional.interpolate(out_img, size=(feature_map_h, feature_map_w), mode=\"bilinear\", align_corners=True)\n",
    "\n",
    "        out = torch.cat([out_1x1_1, out_3x3_1, out_3x3_2, out_3x3_3, out_img], 1)\n",
    "        out = self.relu(self.bn_conv_1x1_3(self.conv_1x1_3(out)))\n",
    "        return self.dropout(out)\n",
    "\n",
    "# AudioDenoising Model\n",
    "class BirdAudioDenoisingModel(nn.Module):\n",
    "    def __init__(self, num_classes):\n",
    "        super(BirdAudioDenoisingModel, self).__init__()\n",
    "        self.encoder = ResNetEncoder()\n",
    "        self.aspp = ASPP(2048, 256)\n",
    "        self.decoder = nn.Sequential(\n",
    "            nn.Conv2d(256, 256, kernel_size=3, padding=1),\n",
    "            nn.BatchNorm2d(256),\n",
    "            nn.ReLU(),\n",
    "            nn.Conv2d(256, num_classes, kernel_size=1)\n",
    "        )\n",
    "\n",
    "    def forward(self, x):\n",
    "        x = self.encoder.forward(x)\n",
    "        x = self.aspp.forward(x)\n",
    "        x = self.decoder.forward(x)\n",
    "        x = nn.functional.interpolate(x, size=(512, 512), mode=\"bilinear\", align_corners=True)\n",
    "        return x\n",
    "\n",
    "# Initialize Model, Loss, and Optimizer\n",
    "device = 'cuda' if torch.cuda.is_available() else 'cpu'\n",
    "model = BirdAudioDenoisingModel(num_classes=1)\n",
    "model = model.to(device)\n"
   ]
  },
  {
   "cell_type": "code",
   "execution_count": 3,
   "metadata": {
    "id": "E4r9ajaVedfy"
   },
   "outputs": [],
   "source": [
    "from google.colab import drive"
   ]
  },
  {
   "cell_type": "code",
   "execution_count": 4,
   "metadata": {
    "colab": {
     "base_uri": "https://localhost:8080/"
    },
    "id": "s8d7JzeYeep_",
    "outputId": "29144559-cbaa-425d-ca80-da2c91048643"
   },
   "outputs": [
    {
     "name": "stdout",
     "output_type": "stream",
     "text": [
      "Mounted at /content/drive\n"
     ]
    }
   ],
   "source": [
    "drive.mount('/content/drive')"
   ]
  },
  {
   "cell_type": "markdown",
   "metadata": {},
   "source": [
    "# 2. Creating DataLoader"
   ]
  },
  {
   "cell_type": "code",
   "execution_count": 5,
   "metadata": {
    "id": "wSaTf4F2dRIK"
   },
   "outputs": [],
   "source": [
    "# Dataset Class\n",
    "class NoisyImageDataset(Dataset):\n",
    "    def __init__(self, image_dir, mask_dir, transform=None):\n",
    "        self.image_dir = image_dir\n",
    "        self.mask_dir = mask_dir\n",
    "        self.transform = transform\n",
    "        self.images = os.listdir(image_dir)\n",
    "\n",
    "    def __len__(self):\n",
    "        return len(self.images)\n",
    "\n",
    "    def __getitem__(self, idx):\n",
    "        img_path = os.path.join(self.image_dir, self.images[idx])\n",
    "        mask_path = os.path.join(self.mask_dir, self.images[idx])\n",
    "\n",
    "        image = Image.open(img_path).convert(\"RGB\")\n",
    "        mask = Image.open(mask_path).convert(\"L\")\n",
    "\n",
    "        if self.transform:\n",
    "            image = self.transform(image)\n",
    "            mask = self.transform(mask)\n",
    "\n",
    "        return image, mask\n",
    "\n",
    "# Data Transforms\n",
    "transform = transforms.Compose([\n",
    "    transforms.Resize((512, 512)),\n",
    "    transforms.ToTensor(),\n",
    "])\n",
    "\n",
    "# Initialize Datasets and Dataloaders\n",
    "image_dir = '/content/drive/MyDrive/new_dataset/new_dataset/train/images'\n",
    "mask_dir = '/content/drive/MyDrive/new_dataset/new_dataset/train/masks'\n",
    "val_image_dir = '/content/drive/MyDrive/new_dataset/new_dataset/valid/images'\n",
    "val_mask_dir = '/content/drive/MyDrive/new_dataset/new_dataset/valid/masks'\n",
    "\n",
    "dataset = NoisyImageDataset(image_dir, mask_dir, transform=transform)\n",
    "train_dataloader = DataLoader(dataset, batch_size=8, shuffle=True)\n",
    "\n",
    "val_dataset = NoisyImageDataset(val_image_dir, val_mask_dir, transform=transform)\n",
    "val_dataloader = DataLoader(val_dataset, batch_size=8, shuffle=False)"
   ]
  },
  {
   "cell_type": "markdown",
   "metadata": {},
   "source": [
    "# Loss Function"
   ]
  },
  {
   "cell_type": "code",
   "execution_count": 6,
   "metadata": {
    "id": "c1gK8zvTdT_Y"
   },
   "outputs": [],
   "source": [
    "# Dice Loss\n",
    "class DiceLoss(nn.Module):\n",
    "    def __init__(self):\n",
    "        super(DiceLoss, self).__init__()\n",
    "\n",
    "    def forward(self, pred, target):\n",
    "        smooth = 1.\n",
    "        pred = torch.sigmoid(pred)\n",
    "        pred = pred.contiguous()\n",
    "        target = target.contiguous()\n",
    "\n",
    "        intersection = (pred * target).sum(dim=2).sum(dim=2)\n",
    "        loss = (1 - ((2. * intersection + smooth) / (pred.sum(dim=2).sum(dim=2) + target.sum(dim=2).sum(dim=2) + smooth)))\n",
    "\n",
    "        return loss.mean()\n",
    "\n",
    "# IoU Calculation\n",
    "def calculate_iou(pred, target, threshold=0.5):\n",
    "    pred = torch.sigmoid(pred) > threshold\n",
    "    target = target > threshold\n",
    "\n",
    "    intersection = (pred & target).float().sum((1, 2))\n",
    "    union = (pred | target).float().sum((1, 2))\n",
    "\n",
    "    iou = (intersection + 1e-6) / (union + 1e-6)\n",
    "\n",
    "    return iou.mean().item()\n",
    "\n",
    "criterion = DiceLoss()\n",
    "optimizer = optim.Adam(model.parameters(), lr=0.0001)\n"
   ]
  },
  {
   "cell_type": "markdown",
   "metadata": {},
   "source": [
    "# Training the Model"
   ]
  },
  {
   "cell_type": "code",
   "execution_count": null,
   "metadata": {
    "colab": {
     "base_uri": "https://localhost:8080/"
    },
    "id": "dsnQ8UvBeGFw",
    "outputId": "6a80da35-5b2c-48fd-c1c5-bafc9eea375e"
   },
   "outputs": [
    {
     "name": "stderr",
     "output_type": "stream",
     "text": [
      "100%|██████████| 125/125 [16:04<00:00,  7.72s/it]\n"
     ]
    },
    {
     "name": "stdout",
     "output_type": "stream",
     "text": [
      "Epoch 1/5, Loss: 0.41396036863327024\n"
     ]
    },
    {
     "name": "stderr",
     "output_type": "stream",
     "text": [
      "100%|██████████| 25/25 [03:28<00:00,  8.35s/it]\n"
     ]
    },
    {
     "name": "stdout",
     "output_type": "stream",
     "text": [
      "Validation IoU: 0.6685941576957702\n"
     ]
    },
    {
     "name": "stderr",
     "output_type": "stream",
     "text": [
      "100%|██████████| 125/125 [01:46<00:00,  1.18it/s]\n"
     ]
    },
    {
     "name": "stdout",
     "output_type": "stream",
     "text": [
      "Epoch 2/5, Loss: 0.3948043106794357\n"
     ]
    },
    {
     "name": "stderr",
     "output_type": "stream",
     "text": [
      "100%|██████████| 25/25 [00:17<00:00,  1.42it/s]\n"
     ]
    },
    {
     "name": "stdout",
     "output_type": "stream",
     "text": [
      "Validation IoU: 0.6803907895088196\n"
     ]
    },
    {
     "name": "stderr",
     "output_type": "stream",
     "text": [
      "100%|██████████| 125/125 [01:46<00:00,  1.18it/s]\n"
     ]
    },
    {
     "name": "stdout",
     "output_type": "stream",
     "text": [
      "Epoch 3/5, Loss: 0.3762281444072723\n"
     ]
    },
    {
     "name": "stderr",
     "output_type": "stream",
     "text": [
      "100%|██████████| 25/25 [00:17<00:00,  1.42it/s]\n"
     ]
    },
    {
     "name": "stdout",
     "output_type": "stream",
     "text": [
      "Validation IoU: 0.6925708365440368\n"
     ]
    },
    {
     "name": "stderr",
     "output_type": "stream",
     "text": [
      "100%|██████████| 125/125 [01:46<00:00,  1.18it/s]\n"
     ]
    },
    {
     "name": "stdout",
     "output_type": "stream",
     "text": [
      "Epoch 4/5, Loss: 0.3635497649908066\n"
     ]
    },
    {
     "name": "stderr",
     "output_type": "stream",
     "text": [
      "100%|██████████| 25/25 [00:17<00:00,  1.42it/s]\n"
     ]
    },
    {
     "name": "stdout",
     "output_type": "stream",
     "text": [
      "Validation IoU: 0.6895067930221558\n"
     ]
    },
    {
     "name": "stderr",
     "output_type": "stream",
     "text": [
      "100%|██████████| 125/125 [01:46<00:00,  1.18it/s]\n"
     ]
    },
    {
     "name": "stdout",
     "output_type": "stream",
     "text": [
      "Epoch 5/5, Loss: 0.3569616550207138\n"
     ]
    },
    {
     "name": "stderr",
     "output_type": "stream",
     "text": [
      "100%|██████████| 25/25 [00:17<00:00,  1.42it/s]\n"
     ]
    },
    {
     "name": "stdout",
     "output_type": "stream",
     "text": [
      "Validation IoU: 0.696297779083252\n",
      "Model saved at epoch 5\n"
     ]
    }
   ],
   "source": [
    "from tqdm import tqdm\n",
    "# Training Loop with Validation IoU Calculation\n",
    "num_epochs = 5\n",
    "\n",
    "for epoch in range(num_epochs):\n",
    "    model.train()\n",
    "    running_loss = 0.0\n",
    "    for images, masks in tqdm(train_dataloader):\n",
    "        images, masks = images.to(device), masks.to(device)\n",
    "\n",
    "        optimizer.zero_grad()\n",
    "        outputs = model(images)\n",
    "        loss = criterion(outputs, masks)\n",
    "        loss.backward()\n",
    "        optimizer.step()\n",
    "\n",
    "        running_loss += loss.item()\n",
    "\n",
    "    print(f\"Epoch {epoch + 1}/{num_epochs}, Loss: {running_loss/len(train_dataloader)}\")\n",
    "\n",
    "    # Validation IoU\n",
    "    model.eval()\n",
    "    val_iou = 0.0\n",
    "    with torch.no_grad():\n",
    "        for images, masks in tqdm(val_dataloader):\n",
    "            images, masks = images.to(device), masks.to(device)\n",
    "            outputs = model(images)\n",
    "            val_iou += calculate_iou(outputs, masks)\n",
    "\n",
    "    val_iou /= len(val_dataloader)\n",
    "    print(f\"Validation IoU: {val_iou}\")\n",
    "\n",
    "    if (epoch+1) % 5 == 0:\n",
    "        model_save_path = f'/content/drive/MyDrive/Project3/bird_epoch_{epoch}.pth'\n",
    "        torch.save(model.state_dict(), model_save_path)\n",
    "        print(f'Model saved at epoch {epoch+1}')\n",
    "\n"
   ]
  },
  {
   "cell_type": "markdown",
   "metadata": {},
   "source": [
    "# Model Evaluation using the test images"
   ]
  },
  {
   "cell_type": "code",
   "execution_count": 7,
   "metadata": {
    "id": "TI6Ic6x1rAXO"
   },
   "outputs": [],
   "source": [
    "test_image_dir = '/content/drive/MyDrive/new_dataset/new_dataset/test/images'\n",
    "test_mask_dir = '/content/drive/MyDrive/new_dataset/new_dataset/test/masks'\n"
   ]
  },
  {
   "cell_type": "code",
   "execution_count": 8,
   "metadata": {
    "id": "uiUgoKXTrSp9"
   },
   "outputs": [],
   "source": [
    "test_dataset = NoisyImageDataset(test_image_dir, test_mask_dir, transform=transform)\n",
    "test_dataloader = DataLoader(test_dataset, batch_size=8, shuffle=False)"
   ]
  },
  {
   "cell_type": "code",
   "execution_count": 16,
   "metadata": {
    "colab": {
     "base_uri": "https://localhost:8080/"
    },
    "id": "B1ve2vENGcXk",
    "outputId": "b2b95659-5a6b-4153-f1a6-7af56e91ade0"
   },
   "outputs": [
    {
     "data": {
      "text/plain": [
       "<All keys matched successfully>"
      ]
     },
     "execution_count": 16,
     "metadata": {},
     "output_type": "execute_result"
    }
   ],
   "source": [
    "model.load_state_dict(torch.load('/content/drive/MyDrive/Project3/bird_epoch_14.pth', map_location=device))"
   ]
  },
  {
   "cell_type": "code",
   "execution_count": 17,
   "metadata": {
    "colab": {
     "base_uri": "https://localhost:8080/"
    },
    "id": "DEoS697IrqAW",
    "outputId": "aac604e0-b2a2-4959-f0c8-592237183ee5"
   },
   "outputs": [
    {
     "name": "stderr",
     "output_type": "stream",
     "text": [
      "100%|██████████| 38/38 [00:25<00:00,  1.49it/s]"
     ]
    },
    {
     "name": "stdout",
     "output_type": "stream",
     "text": [
      "Test IoU: 0.6858799426179183\n"
     ]
    },
    {
     "name": "stderr",
     "output_type": "stream",
     "text": [
      "\n"
     ]
    }
   ],
   "source": [
    "from tqdm import tqdm\n",
    "model.eval()\n",
    "test_iou = 0.0\n",
    "with torch.no_grad():\n",
    "    for images, masks in tqdm(test_dataloader):\n",
    "        images, masks = images.to(device), masks.to(device)\n",
    "        outputs = model(images)\n",
    "        test_iou += calculate_iou(outputs, masks)\n",
    "\n",
    "\n",
    "test_iou /= len(test_dataloader)\n",
    "print(f\"Test IoU: {test_iou}\")"
   ]
  },
  {
   "cell_type": "markdown",
   "metadata": {},
   "source": [
    "## Segmentation results comparisons"
   ]
  },
  {
   "cell_type": "code",
   "execution_count": 28,
   "metadata": {
    "colab": {
     "base_uri": "https://localhost:8080/",
     "height": 241
    },
    "id": "L4PviuIpG_bv",
    "outputId": "6dbf1f0a-84bb-4db1-d97a-3f435912124b"
   },
   "outputs": [
    {
     "data": {
      "image/png": "[encoded data removed]",
      "text/plain": [
       "<Figure size 800x600 with 3 Axes>"
      ]
     },
     "metadata": {},
     "output_type": "display_data"
    }
   ],
   "source": [
    "# Example Inference\n",
    "def segment_image(image_path, model, transform, device):\n",
    "    model.eval()\n",
    "    image = Image.open(image_path).convert(\"RGB\")\n",
    "    image = transform(image).unsqueeze(0).to(device)\n",
    "\n",
    "    with torch.no_grad():\n",
    "        output = model(image)\n",
    "\n",
    "    return output\n",
    "\n",
    "# Example Usage\n",
    "image_path = '/content/drive/MyDrive/new_dataset/new_dataset/test/images/XC58568.png'\n",
    "segmented_output = segment_image(image_path, model, transform, device)\n",
    "segmented_mask = torch.sigmoid(segmented_output).cpu().squeeze().numpy()\n",
    "\n",
    "image = Image.open(image_path).convert(\"RGB\")\n",
    "image = image.resize((512, 512))\n",
    "\n",
    "image_mask = Image.open('/content/drive/MyDrive/new_dataset/new_dataset/test/masks/XC58568.png').convert(\"RGB\")\n",
    "image_mask = image_mask.resize((512, 512))\n",
    "\n",
    "fig, axs = plt.subplots(1, 3, figsize=(8, 6))\n",
    "\n",
    "# Display the original image in the first subplot\n",
    "axs[0].imshow(image)\n",
    "axs[0].set_title('Original Image')\n",
    "axs[0].axis('off')\n",
    "\n",
    "axs[1].imshow(image_mask)\n",
    "axs[1].set_title('Image Mask')\n",
    "axs[1].axis('off')\n",
    "\n",
    "# Display the segmented mask in the second subplot\n",
    "axs[2].imshow(segmented_mask, cmap='gray')\n",
    "axs[2].set_title('Segmented Mask')\n",
    "axs[2].axis('off')\n",
    "\n",
    "# Show the plot\n",
    "plt.show()"
   ]
  },
  {
   "cell_type": "code",
   "execution_count": 24,
   "metadata": {
    "colab": {
     "base_uri": "https://localhost:8080/"
    },
    "id": "FBWqSFism3r7",
    "outputId": "6a243cc1-8dfb-4ab6-ce0c-69a0cc419661"
   },
   "outputs": [
    {
     "name": "stdout",
     "output_type": "stream",
     "text": [
      "Mean IoU: 0.6858799426179183\n",
      "Mean F1 Score: 0.6550192822629933\n",
      "Mean Dice Score: 0.6550192822605719\n"
     ]
    }
   ],
   "source": [
    "import torch\n",
    "import torch.nn.functional as F\n",
    "from sklearn.metrics import f1_score\n",
    "\n",
    "def calculate_metrics(pred, target, threshold=0.5):\n",
    "    pred = torch.sigmoid(pred) > threshold\n",
    "    target = target > threshold\n",
    "\n",
    "    # Flatten the predictions and targets\n",
    "    pred_flat = pred.view(-1)\n",
    "    target_flat = target.view(-1)\n",
    "\n",
    "    # Calculate IoU\n",
    "    intersection = (pred & target).float().sum((1, 2))\n",
    "    union = (pred | target).float().sum((1, 2))\n",
    "    iou = (intersection + 1e-6) / (union + 1e-6)\n",
    "    iou_mean = iou.mean().item()\n",
    "\n",
    "    # Calculate F1 score\n",
    "    f1 = f1_score(target_flat.cpu().numpy(), pred_flat.cpu().numpy(), average='binary')\n",
    "\n",
    "    # Calculate Dice score\n",
    "    intersection_sum = (pred_flat * target_flat).sum().item()\n",
    "    dice = (2. * intersection_sum) / (pred_flat.sum().item() + target_flat.sum().item() + 1e-6)\n",
    "\n",
    "    return iou_mean, f1, dice\n",
    "\n",
    "def evaluate_model(deeplab_model, test_loader, threshold=0.5):\n",
    "    deeplab_model.eval()  # Set the model to evaluation mode\n",
    "    all_ious = []\n",
    "    all_f1s = []\n",
    "    all_dices = []\n",
    "\n",
    "    with torch.no_grad():\n",
    "        for images, labels in test_loader:\n",
    "            images = images.to(device)\n",
    "            labels = labels.to(device)\n",
    "\n",
    "            # Forward pass\n",
    "            outputs = deeplab_model(images)\n",
    "\n",
    "            # Calculate metrics\n",
    "            iou, f1, dice = calculate_metrics(outputs, labels, threshold)\n",
    "\n",
    "            all_ious.append(iou)\n",
    "            all_f1s.append(f1)\n",
    "            all_dices.append(dice)\n",
    "\n",
    "    # Compute the mean of each metric\n",
    "    mean_iou = sum(all_ious) / len(all_ious)\n",
    "    mean_f1 = sum(all_f1s) / len(all_f1s)\n",
    "    mean_dice = sum(all_dices) / len(all_dices)\n",
    "\n",
    "    return mean_iou, mean_f1, mean_dice\n",
    "\n",
    "# Example usage\n",
    "mean_iou, mean_f1, mean_dice = evaluate_model(model, test_dataloader)\n",
    "print(f\"Mean IoU: {mean_iou}\")\n",
    "print(f\"Mean F1 Score: {mean_f1}\")\n",
    "print(f\"Mean Dice Score: {mean_dice}\")\n"
   ]
  },
  {
   "cell_type": "code",
   "execution_count": 25,
   "metadata": {
    "colab": {
     "base_uri": "https://localhost:8080/"
    },
    "id": "4L8PxijVpQg5",
    "outputId": "3cff1242-f3ec-42d4-fbf0-0eee70d6c83f"
   },
   "outputs": [
    {
     "name": "stdout",
     "output_type": "stream",
     "text": [
      "Mean Validation IoU: 0.696297779083252\n",
      "Mean Validation F1 Score: 0.6553541351289006\n",
      "Mean Validation Dice Score: 0.6553541351264375\n"
     ]
    }
   ],
   "source": [
    "mean_iou, mean_f1, mean_dice = evaluate_model(model, val_dataloader)\n",
    "print(f\"Mean Validation IoU: {mean_iou}\")\n",
    "print(f\"Mean Validation F1 Score: {mean_f1}\")\n",
    "print(f\"Mean Validation Dice Score: {mean_dice}\")"
   ]
  },
  {
   "cell_type": "markdown",
   "metadata": {},
   "source": [
    "# ResearchGate paper link"
   ]
  },
  {
   "cell_type": "markdown",
   "metadata": {},
   "source": [
    "https://www.researchgate.net/publication/382943342_Denoising_BirdSounds_using_Image_Segmentation"
   ]
  },
  {
   "cell_type": "code",
   "execution_count": null,
   "metadata": {},
   "outputs": [],
   "source": []
  }
 ],
 "metadata": {
  "accelerator": "GPU",
  "colab": {
   "gpuType": "L4",
   "machine_shape": "hm",
   "provenance": []
  },
  "kernelspec": {
   "display_name": "Python 3 (ipykernel)",
   "language": "python",
   "name": "python3"
  },
  "language_info": {
   "codemirror_mode": {
    "name": "ipython",
    "version": 3
   },
   "file_extension": ".py",
   "mimetype": "text/x-python",
   "name": "python",
   "nbconvert_exporter": "python",
   "pygments_lexer": "ipython3",
   "version": "3.11.5"
  }
 },
 "nbformat": 4,
 "nbformat_minor": 1
}
